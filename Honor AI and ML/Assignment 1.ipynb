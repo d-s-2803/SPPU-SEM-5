{
  "nbformat": 4,
  "nbformat_minor": 0,
  "metadata": {
    "colab": {
      "name": "Untitled0.ipynb",
      "provenance": []
    },
    "kernelspec": {
      "name": "python3",
      "display_name": "Python 3"
    },
    "accelerator": "GPU"
  },
  "cells": [
    {
      "cell_type": "code",
      "metadata": {
        "colab": {
          "base_uri": "https://localhost:8080/"
        },
        "id": "KyKqpfKMnzoU",
        "outputId": "a29ada4c-dc56-4881-803a-ce2df983abb9"
      },
      "source": [
        "import math\r\n",
        "x = list(map(int,input(\"Enter values on x axis:\").strip().split(' ')))\r\n",
        "y = list(map(int, input(\"Enter values on y axis:\").strip().split(' ')))\r\n",
        "print(x)\r\n",
        "print(y)"
      ],
      "execution_count": 1,
      "outputs": [
        {
          "output_type": "stream",
          "text": [
            "Enter values on x axis:17 15 23 7 9 13 2 5 8 3 4 5\n",
            "Enter values on y axis:14 56 20 7 8 13 2 5 6 3 4 3\n",
            "[17, 15, 23, 7, 9, 13, 2, 5, 8, 3, 4, 5]\n",
            "[14, 56, 20, 7, 8, 13, 2, 5, 6, 3, 4, 3]\n"
          ],
          "name": "stdout"
        }
      ]
    },
    {
      "cell_type": "code",
      "metadata": {
        "colab": {
          "base_uri": "https://localhost:8080/"
        },
        "id": "zn430cFcoC9T",
        "outputId": "5c2b40b6-3b37-4294-e55d-944d12f143c3"
      },
      "source": [
        "\r\n",
        "def Mean(data):\r\n",
        "  return sum(data)/len(data)\r\n",
        "\r\n",
        "def Var(data):\r\n",
        "  mean = Mean(data)\r\n",
        "  return (sum((x - mean)**2 for x in data ))/(len(data)-1)\r\n",
        "\r\n",
        "def STD(data):\r\n",
        "  return math.sqrt(Var(data))\r\n",
        "\r\n",
        "meanX = Mean(x)\r\n",
        "print(\"Mean of X : \",meanX)\r\n",
        "meanY = Mean(y)\r\n",
        "print(\"Mean of Y : \",meanY)\r\n",
        "diffX = [(i - meanX) for i in x] \r\n",
        "diffY = [(j - meanY) for j in y]\r\n",
        "\r\n",
        "def coVar(x,y):\r\n",
        "  return sum((num1 * num2) for num1, num2 in zip(diffX,diffY))/(len(x)+len(y) - 1)\r\n",
        "\r\n",
        "def coRel(x,y):\r\n",
        "  diffX2 = [(i - meanX)**2 for i in x] \r\n",
        "  diffY2 = [(j - meanY)**2 for j in y]  \r\n",
        "  Num = sum((num1 * num2) for num1, num2 in zip(diffX,diffY)) \r\n",
        "  Den = sum(diffX2) * sum(diffY2) \r\n",
        "  return (Num/(math.sqrt(Den)))\r\n",
        "\r\n",
        "def stdError(std, n):\r\n",
        "  return(std/math.sqrt(n))\r\n",
        "\r\n",
        "print(\"Variance of X : \" , Var(x))\r\n",
        "print(\"Variance of Y : \",Var(y))\r\n",
        "print(\"Standard Deviation of X : \" , STD(x))\r\n",
        "print(\"Standard Deviation of Y : \" , STD(y))\r\n",
        "print(\"CoVariance : \" , coVar(x,y))\r\n",
        "print(\"Corelation : \",coRel(x,y))\r\n",
        "print(\"Standard Error of X\" , stdError(STD(x),len(x)))\r\n",
        "print(\"Standard Error of Y\" , stdError(STD(y),len(y)))"
      ],
      "execution_count": 2,
      "outputs": [
        {
          "output_type": "stream",
          "text": [
            "Mean of X :  9.25\n",
            "Mean of Y :  11.75\n",
            "Variance of X :  41.65909090909091\n",
            "Variance of Y :  223.29545454545453\n",
            "Standard Deviation of X :  6.4543854013446476\n",
            "Standard Deviation of Y :  14.943073798434328\n",
            "CoVariance :  27.858695652173914\n",
            "Corelation :  0.6039501509913463\n",
            "Standard Error of X 1.8632205744599617\n",
            "Standard Error of Y 4.313693840023252\n"
          ],
          "name": "stdout"
        }
      ]
    }
  ]
}
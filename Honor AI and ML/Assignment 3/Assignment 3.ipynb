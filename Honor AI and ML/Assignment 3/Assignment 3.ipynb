{
  "nbformat": 4,
  "nbformat_minor": 0,
  "metadata": {
    "colab": {
      "name": "Untitled2.ipynb",
      "provenance": []
    },
    "kernelspec": {
      "name": "python3",
      "display_name": "Python 3"
    }
  },
  "cells": [
    {
      "cell_type": "code",
      "metadata": {
        "id": "Gar_YA9_ghfW"
      },
      "source": [
        "import numpy as np \r\n",
        "import pandas as pd\r\n",
        "import matplotlib.pyplot as plt \r\n",
        "from sklearn.linear_model import *"
      ],
      "execution_count": 1,
      "outputs": []
    },
    {
      "cell_type": "code",
      "metadata": {
        "colab": {
          "base_uri": "https://localhost:8080/",
          "height": 202
        },
        "id": "WaPv9gpegy4S",
        "outputId": "2389bef9-7a0e-4fb0-9679-1ab03584823d"
      },
      "source": [
        "data = pd.read_csv(\"/content/birthwt.csv\")\r\n",
        "data.head()"
      ],
      "execution_count": 2,
      "outputs": [
        {
          "output_type": "execute_result",
          "data": {
            "text/html": [
              "<div>\n",
              "<style scoped>\n",
              "    .dataframe tbody tr th:only-of-type {\n",
              "        vertical-align: middle;\n",
              "    }\n",
              "\n",
              "    .dataframe tbody tr th {\n",
              "        vertical-align: top;\n",
              "    }\n",
              "\n",
              "    .dataframe thead th {\n",
              "        text-align: right;\n",
              "    }\n",
              "</style>\n",
              "<table border=\"1\" class=\"dataframe\">\n",
              "  <thead>\n",
              "    <tr style=\"text-align: right;\">\n",
              "      <th></th>\n",
              "      <th>low</th>\n",
              "      <th>age</th>\n",
              "      <th>lwt</th>\n",
              "      <th>race</th>\n",
              "      <th>smoke</th>\n",
              "      <th>ptl</th>\n",
              "      <th>ht</th>\n",
              "      <th>ui</th>\n",
              "      <th>ftv</th>\n",
              "      <th>bwt</th>\n",
              "    </tr>\n",
              "  </thead>\n",
              "  <tbody>\n",
              "    <tr>\n",
              "      <th>0</th>\n",
              "      <td>0</td>\n",
              "      <td>19</td>\n",
              "      <td>182</td>\n",
              "      <td>2</td>\n",
              "      <td>0</td>\n",
              "      <td>0</td>\n",
              "      <td>0</td>\n",
              "      <td>1</td>\n",
              "      <td>0</td>\n",
              "      <td>2523</td>\n",
              "    </tr>\n",
              "    <tr>\n",
              "      <th>1</th>\n",
              "      <td>0</td>\n",
              "      <td>33</td>\n",
              "      <td>155</td>\n",
              "      <td>3</td>\n",
              "      <td>0</td>\n",
              "      <td>0</td>\n",
              "      <td>0</td>\n",
              "      <td>0</td>\n",
              "      <td>3</td>\n",
              "      <td>2551</td>\n",
              "    </tr>\n",
              "    <tr>\n",
              "      <th>2</th>\n",
              "      <td>0</td>\n",
              "      <td>20</td>\n",
              "      <td>105</td>\n",
              "      <td>1</td>\n",
              "      <td>1</td>\n",
              "      <td>0</td>\n",
              "      <td>0</td>\n",
              "      <td>0</td>\n",
              "      <td>1</td>\n",
              "      <td>2557</td>\n",
              "    </tr>\n",
              "    <tr>\n",
              "      <th>3</th>\n",
              "      <td>0</td>\n",
              "      <td>21</td>\n",
              "      <td>108</td>\n",
              "      <td>1</td>\n",
              "      <td>1</td>\n",
              "      <td>0</td>\n",
              "      <td>0</td>\n",
              "      <td>1</td>\n",
              "      <td>2</td>\n",
              "      <td>2594</td>\n",
              "    </tr>\n",
              "    <tr>\n",
              "      <th>4</th>\n",
              "      <td>0</td>\n",
              "      <td>18</td>\n",
              "      <td>107</td>\n",
              "      <td>1</td>\n",
              "      <td>1</td>\n",
              "      <td>0</td>\n",
              "      <td>0</td>\n",
              "      <td>1</td>\n",
              "      <td>0</td>\n",
              "      <td>2600</td>\n",
              "    </tr>\n",
              "  </tbody>\n",
              "</table>\n",
              "</div>"
            ],
            "text/plain": [
              "   low  age  lwt  race  smoke  ptl  ht  ui  ftv   bwt\n",
              "0    0   19  182     2      0    0   0   1    0  2523\n",
              "1    0   33  155     3      0    0   0   0    3  2551\n",
              "2    0   20  105     1      1    0   0   0    1  2557\n",
              "3    0   21  108     1      1    0   0   1    2  2594\n",
              "4    0   18  107     1      1    0   0   1    0  2600"
            ]
          },
          "metadata": {
            "tags": []
          },
          "execution_count": 2
        }
      ]
    },
    {
      "cell_type": "code",
      "metadata": {
        "colab": {
          "base_uri": "https://localhost:8080/"
        },
        "id": "VFYxgiCqg9PU",
        "outputId": "8dc002e5-a42f-45a3-aa9c-1b0db1796ef9"
      },
      "source": [
        "X = data.iloc[:,1].values\r\n",
        "y = data.iloc[:,9].values\r\n",
        "print(\"Corelation Coefficient :\" , np.corrcoef(X,y))\r\n",
        "X = X.reshape(-1,1)"
      ],
      "execution_count": 3,
      "outputs": [
        {
          "output_type": "stream",
          "text": [
            "Corelation Coefficient : [[1.         0.09031781]\n",
            " [0.09031781 1.        ]]\n"
          ],
          "name": "stdout"
        }
      ]
    },
    {
      "cell_type": "code",
      "metadata": {
        "colab": {
          "base_uri": "https://localhost:8080/",
          "height": 313
        },
        "id": "l3JhxQ5hhQv8",
        "outputId": "b74c7e75-57ec-4078-fa14-c62a1f5b6e4c"
      },
      "source": [
        "regressor = LinearRegression()\r\n",
        "regressor.fit(X,y)\r\n",
        "\r\n",
        "accuracy = regressor.score(X,y)*100\r\n",
        "\r\n",
        "plt.scatter(X,y,color = 'red')\r\n",
        "plt.plot(X,regressor.predict(X) , color = 'blue')\r\n",
        "plt.title(\"Association of mother’s age and birth weight Linear Regression\")\r\n",
        "print( 'Y : %f + %f ' , regressor.intercept_,regressor.coef_)\r\n",
        "plt.xlabel('Birth Weight')\r\n",
        "plt.ylabel('Mother’s age')\r\n",
        "plt.show()"
      ],
      "execution_count": 4,
      "outputs": [
        {
          "output_type": "stream",
          "text": [
            "Y : %f + %f  2655.744469705171 [12.42971203]\n"
          ],
          "name": "stdout"
        },
        {
          "output_type": "display_data",
          "data": {
            "image/png": "[encoded data removed]",
            "text/plain": [
              "<Figure size 432x288 with 1 Axes>"
            ]
          },
          "metadata": {
            "tags": [],
            "needs_background": "light"
          }
        }
      ]
    },
    {
      "cell_type": "code",
      "metadata": {
        "colab": {
          "base_uri": "https://localhost:8080/"
        },
        "id": "ek7hXK9kiaEE",
        "outputId": "961e8459-0446-41c9-8b25-aa03fcf5263a"
      },
      "source": [
        "X = data.iloc[:,2].values\r\n",
        "y = data.iloc[:,9].values\r\n",
        "print(\"Corelation Coefficient :\" , np.corrcoef(X,y))\r\n",
        "X = X.reshape(-1,1)"
      ],
      "execution_count": 5,
      "outputs": [
        {
          "output_type": "stream",
          "text": [
            "Corelation Coefficient : [[1.         0.18573328]\n",
            " [0.18573328 1.        ]]\n"
          ],
          "name": "stdout"
        }
      ]
    },
    {
      "cell_type": "code",
      "metadata": {
        "colab": {
          "base_uri": "https://localhost:8080/",
          "height": 313
        },
        "id": "K3-7qAkeivzw",
        "outputId": "d46225c8-45a9-474c-f147-497981cb7ef7"
      },
      "source": [
        "regressor = LinearRegression()\r\n",
        "regressor.fit(X,y)\r\n",
        "\r\n",
        "accuracy = regressor.score(X,y)*100\r\n",
        "\r\n",
        "plt.scatter(X,y,color = 'red')\r\n",
        "plt.plot(X,regressor.predict(X) , color = 'blue')\r\n",
        "plt.title(\"Association of mother’s weight and birth weight Linear Regression\")\r\n",
        "print( 'Y : %f + %f ' , regressor.intercept_,regressor.coef_)\r\n",
        "plt.xlabel('Birth Weight')\r\n",
        "plt.ylabel('Mother’s Weight')\r\n",
        "plt.show()"
      ],
      "execution_count": 6,
      "outputs": [
        {
          "output_type": "stream",
          "text": [
            "Y : %f + %f  2369.623517873997 [4.42910761]\n"
          ],
          "name": "stdout"
        },
        {
          "output_type": "display_data",
          "data": {
            "image/png": "[encoded data removed]",
            "text/plain": [
              "<Figure size 432x288 with 1 Axes>"
            ]
          },
          "metadata": {
            "tags": [],
            "needs_background": "light"
          }
        }
      ]
    }
  ]
}